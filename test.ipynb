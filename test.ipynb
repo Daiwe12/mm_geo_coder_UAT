{
 "cells": [
  {
   "cell_type": "code",
   "execution_count": null,
   "id": "a73ca8c3",
   "metadata": {},
   "outputs": [],
   "source": [
    "from mm_geo_coder import MMGeoCoder\n",
    "\n",
    "address = \"ရန်ကုန်တိုင်းဒေသကြီး လှိုင်မြို့နယ်\"\n",
    "geo_coder = MMGeoCoder(address)\n",
    "location = geo_coder.get_geolocation()\n",
    "print(location[0]['address'])\n",
    "\n",
    "address =  \"ဗိုလ်တောက်ထိန်လမ်း၊ မင်္ဂလာရပ်ကွက်။ပျဥ်းမနားမြို့\"\n",
    "geo_coder = MMGeoCoder(address)\n",
    "location = geo_coder.get_geolocation()\n",
    "print(location[0]['address'])\n",
    "\n",
    "\n",
    "address =  \"မန္တလေးတိုင်း၊ ရမည်းသင်းမြို့နယ်၊ ရွာတန်းကျေးရွာ ဘုန်းတော်ကြီးသင်စာသင်ကျောင်း\"\n",
    "geo_coder = MMGeoCoder(address)\n",
    "location = geo_coder.get_geolocation()\n",
    "if(location is not None):\n",
    "    print(location[0]['address'])\n",
    "    print(location[0]['latitude'])\n",
    "    print(location[0]['longitude'])\n",
    "    print(location[0]['pcode'])"
   ]
  },
  {
   "cell_type": "code",
   "execution_count": null,
   "id": "fdd5f058",
   "metadata": {},
   "outputs": [],
   "source": [
    "def get_location(address):\n",
    "    if address is None or address == \"\":\n",
    "        return None\n",
    "    geo_coder = MMGeoCoder(address)\n",
    "    result = geo_coder.get_geolocation() \n",
    "    if not result or not isinstance(result, list) or len(result) == 0:\n",
    "        return None\n",
    "\n",
    "    first_result = result[0]\n",
    "    if not isinstance(first_result, dict):\n",
    "        return None\n",
    "    \n",
    "    address_str = first_result.get('address')\n",
    "    pcode = first_result.get('pcode')  \n",
    "    lat = first_result.get('latitude')\n",
    "    log = first_result.get('longitude') \n",
    "\n",
    "    if any([address_str, pcode, lat, log]):\n",
    "        return {\n",
    "            'address': address_str,\n",
    "            'pcode': pcode,\n",
    "            'lat': lat,\n",
    "            'log': log\n",
    "        }\n",
    "\n",
    "    return None"
   ]
  },
  {
   "cell_type": "code",
   "execution_count": null,
   "id": "949b06a6",
   "metadata": {},
   "outputs": [],
   "source": [
    "import pandas as pd\n",
    "import os\n",
    "from datetime import datetime\n",
    "\n",
    "\n",
    "address_file = \"./data/addresses.csv\"\n",
    "df = pd.read_csv(address_file)\n",
    "df = df.dropna(subset=['address'])\n",
    "df = df.drop_duplicates(subset=['address'])\n",
    "location_data = df['address'].apply(get_location).apply(pd.Series)\n",
    "df_result = pd.concat([df, location_data], axis=1)\n",
    "\n",
    "timestamp = datetime.now().strftime(\"%Y%m%d_%H\")\n",
    "filename =f\"{address_file[:-4]}_{timestamp}.csv\"\n",
    "df_result.to_csv(filename, index=False)\n",
    "\n"
   ]
  }
 ],
 "metadata": {
  "kernelspec": {
   "display_name": ".venv",
   "language": "python",
   "name": "python3"
  },
  "language_info": {
   "codemirror_mode": {
    "name": "ipython",
    "version": 3
   },
   "file_extension": ".py",
   "mimetype": "text/x-python",
   "name": "python",
   "nbconvert_exporter": "python",
   "pygments_lexer": "ipython3",
   "version": "3.12.2"
  }
 },
 "nbformat": 4,
 "nbformat_minor": 5
}
